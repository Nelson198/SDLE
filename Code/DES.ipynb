{
 "cells": [
  {
   "cell_type": "markdown",
   "metadata": {},
   "source": [
    "# *D.E.S. - Discrete-event simulation*\n",
    "\n",
    "Informação : *https://en.wikipedia.org/wiki/Discrete-event_simulation*"
   ]
  },
  {
   "cell_type": "markdown",
   "metadata": {},
   "source": [
    "---"
   ]
  },
  {
   "cell_type": "code",
   "execution_count": 1,
   "metadata": {},
   "outputs": [],
   "source": [
    "import random\n",
    "import networkx as nx"
   ]
  },
  {
   "cell_type": "markdown",
   "metadata": {},
   "source": [
    "Geração de grafos conectados (tal como foi feito no **guião nº 1**)."
   ]
  },
  {
   "cell_type": "code",
   "execution_count": 2,
   "metadata": {},
   "outputs": [],
   "source": [
    "def completeGraph(nVertices):\n",
    "    # Initialize the graph\n",
    "    G = nx.Graph()\n",
    "\n",
    "    # Add nodes\n",
    "    G.add_nodes_from(range(nVertices))\n",
    "\n",
    "    # List all possible edges\n",
    "    edges = list(nx.non_edges(G))\n",
    "    random.shuffle(edges)\n",
    "    while not nx.is_connected(G):\n",
    "        x, y = edges.pop()\n",
    "        G.add_edge(x, y)\n",
    "\n",
    "    return G"
   ]
  },
  {
   "cell_type": "markdown",
   "metadata": {},
   "source": [
    "Classe *Node* :"
   ]
  },
  {
   "cell_type": "code",
   "execution_count": 3,
   "metadata": {},
   "outputs": [],
   "source": [
    "class Node:\n",
    "    def __init__(self, tag, neighbors):\n",
    "        self.tag = tag\n",
    "        self.parent = None\n",
    "        self.neighbors = neighbors\n",
    "\n",
    "    def handle(self, src, msg, t):\n",
    "        if self.parent != None:\n",
    "            return\n",
    "\n",
    "        if src == None:\n",
    "            src = -1\n",
    "            \n",
    "        self.parent = src\n",
    "        print(\"parent of\", self.tag, \"is\", self.parent, \"at\", t)\n",
    "\n",
    "        newMessages = []\n",
    "        for neighbor in self.neighbors:\n",
    "            newMessages.append((neighbor, msg))\n",
    "\n",
    "        return newMessages"
   ]
  },
  {
   "cell_type": "markdown",
   "metadata": {},
   "source": [
    "Classe *Simulator* :"
   ]
  },
  {
   "cell_type": "code",
   "execution_count": 4,
   "metadata": {},
   "outputs": [],
   "source": [
    "class Simulator:\n",
    "    def __init__(self, nodes, distances):\n",
    "        self.nodes = nodes\n",
    "        self.distances = distances\n",
    "        self.currentTime = 0\n",
    "        self.pending = [] # [(delay, (src, dest, msg))]\n",
    "\n",
    "    def start(self, initialMsg, initialNode):\n",
    "        event = (0, (None, initialNode, initialMsg))\n",
    "        self.pending.append(event)\n",
    "\n",
    "        self.runLoop()\n",
    "\n",
    "    def runLoop(self):\n",
    "        while len(self.pending) != 0:\n",
    "            smallestDelay = float(\"inf\")\n",
    "            smallestMessage = None\n",
    "            \n",
    "            for i in range(len(self.pending)):\n",
    "                delay = self.pending[i][0]\n",
    "                \n",
    "                if delay < smallestDelay:\n",
    "                    smallestDelay = delay\n",
    "                    smallestMessage = i\n",
    "\n",
    "            self.currentTime = smallestDelay\n",
    "            (delay, (src, dest, msg)) = self.pending.pop(smallestMessage)\n",
    "\n",
    "            newEvents = self.nodes[dest].handle(src, msg, self.currentTime)\n",
    "            if newEvents:\n",
    "                for (newMsgDest, newMsg) in newEvents:\n",
    "                    dist = 0\n",
    "                    \n",
    "                    if dest < newMsgDest:\n",
    "                        dist = self.distances[(dest, newMsgDest)]\n",
    "                    else:\n",
    "                        dist = self.distances[(newMsgDest, dest)]\n",
    "                        \n",
    "                    self.pending.append((self.currentTime + dist, (dest, newMsgDest, newMsg)))"
   ]
  },
  {
   "cell_type": "code",
   "execution_count": 5,
   "metadata": {},
   "outputs": [],
   "source": [
    "def main():\n",
    "    G = completeGraph(10)\n",
    "    nodes = {}\n",
    "    distances = {}\n",
    "    \n",
    "    for node in G.nodes():\n",
    "        neighbors = list(G.neighbors(node))\n",
    "        nodes[node] = Node(node, neighbors)\n",
    "        \n",
    "        for neighbor in neighbors:\n",
    "            if node < neighbor:\n",
    "                distances[(node, neighbor)] = random.randint(1, 10)\n",
    "            else:\n",
    "                distances[(neighbor, node)] = random.randint(1, 10)\n",
    "\n",
    "    pos = nx.spring_layout(G)\n",
    "    nx.draw_networkx(G, pos)\n",
    "    nx.draw_networkx_edge_labels(G, pos, edge_labels=distances)\n",
    "    sim = Simulator(nodes, distances)\n",
    "    sim.start(\"hello\", 0)"
   ]
  },
  {
   "cell_type": "code",
   "execution_count": 6,
   "metadata": {},
   "outputs": [
    {
     "name": "stdout",
     "output_type": "stream",
     "text": [
      "parent of 0 is -1 at 0\n",
      "parent of 5 is 0 at 5\n",
      "parent of 6 is 0 at 7\n",
      "parent of 3 is 6 at 8\n",
      "parent of 9 is 0 at 9\n",
      "parent of 1 is 0 at 10\n",
      "parent of 2 is 5 at 10\n",
      "parent of 4 is 5 at 13\n",
      "parent of 7 is 6 at 14\n",
      "parent of 8 is 7 at 16\n"
     ]
    },
    {
     "data": {
      "image/png": "[encoded data removed]",
      "text/plain": [
       "<Figure size 432x288 with 1 Axes>"
      ]
     },
     "metadata": {},
     "output_type": "display_data"
    }
   ],
   "source": [
    "main()"
   ]
  },
  {
   "cell_type": "code",
   "execution_count": null,
   "metadata": {},
   "outputs": [],
   "source": []
  }
 ],
 "metadata": {
  "kernelspec": {
   "display_name": "Python 3",
   "language": "python",
   "name": "python3"
  },
  "language_info": {
   "codemirror_mode": {
    "name": "ipython",
    "version": 3
   },
   "file_extension": ".py",
   "mimetype": "text/x-python",
   "name": "python",
   "nbconvert_exporter": "python",
   "pygments_lexer": "ipython3",
   "version": "3.7.4"
  }
 },
 "nbformat": 4,
 "nbformat_minor": 2
}
